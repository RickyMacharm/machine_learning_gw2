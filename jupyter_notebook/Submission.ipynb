{
 "cells": [
  {
   "cell_type": "markdown",
   "metadata": {},
   "source": [
    "# Group Submission 2\n",
    "---\n",
    "## Team Members:\n",
    "- Neo Meng Hwee\n",
    "- Marc Tan\n",
    "- Kanwar Angad Singh Dusaj\n",
    "- Kim Chuong Hoang\n",
    "\n",
    "---"
   ]
  },
  {
   "cell_type": "code",
   "execution_count": 29,
   "metadata": {},
   "outputs": [
    {
     "data": {
      "text/html": [
       "<style>.container { width:80% !important; }</style>"
      ],
      "text/plain": [
       "<IPython.core.display.HTML object>"
      ]
     },
     "metadata": {},
     "output_type": "display_data"
    }
   ],
   "source": [
    "from IPython.core.display import display, HTML\n",
    "display(HTML(\"<style>.container { width:80% !important; }</style>\"))"
   ]
  },
  {
   "cell_type": "markdown",
   "metadata": {},
   "source": [
    "## Question\n",
    "- Select at least four explanatory variables and perform the necessary transformations\n",
    "so that they are useful in the model phase. You are encouraged to use more than four\n",
    "variables. Investigate feature engineering techniques such as PCA and encoding\n",
    "target variables using one-hot encoding\n",
    "- Write a short paragraph about each technique investigated and show an\n",
    "implementation of it in a Jupyter Notebook. Make sure to include references that\n",
    "indicate where the ideas were sourced"
   ]
  },
  {
   "cell_type": "markdown",
   "metadata": {},
   "source": [
    "### Generating Variables\n",
    "\n",
    "- we will use the data from the **`data_day`** file generated from Submission 1 for this exercise\n",
    "\n"
   ]
  },
  {
   "cell_type": "markdown",
   "metadata": {},
   "source": [
    "#### Importing Into DataFrame"
   ]
  },
  {
   "cell_type": "code",
   "execution_count": 5,
   "metadata": {},
   "outputs": [],
   "source": [
    "import pandas as pd \n",
    "import numpy as np\n",
    "\n",
    "data = pd.read_csv('data_day.csv', parse_dates=True, index_col='Date_Time')"
   ]
  },
  {
   "cell_type": "markdown",
   "metadata": {},
   "source": [
    "#### Generating `close` variable\n",
    "\n",
    "- period close price"
   ]
  },
  {
   "cell_type": "code",
   "execution_count": 6,
   "metadata": {},
   "outputs": [
    {
     "data": {
      "text/html": [
       "<div>\n",
       "<style scoped>\n",
       "    .dataframe tbody tr th:only-of-type {\n",
       "        vertical-align: middle;\n",
       "    }\n",
       "\n",
       "    .dataframe tbody tr th {\n",
       "        vertical-align: top;\n",
       "    }\n",
       "\n",
       "    .dataframe thead th {\n",
       "        text-align: right;\n",
       "    }\n",
       "</style>\n",
       "<table border=\"1\" class=\"dataframe\">\n",
       "  <thead>\n",
       "    <tr style=\"text-align: right;\">\n",
       "      <th></th>\n",
       "      <th>close</th>\n",
       "    </tr>\n",
       "    <tr>\n",
       "      <th>Date_Time</th>\n",
       "      <th></th>\n",
       "    </tr>\n",
       "  </thead>\n",
       "  <tbody>\n",
       "    <tr>\n",
       "      <th>2013-09-01 17:00:00</th>\n",
       "      <td>1640.25</td>\n",
       "    </tr>\n",
       "    <tr>\n",
       "      <th>2013-09-01 17:05:00</th>\n",
       "      <td>1640.50</td>\n",
       "    </tr>\n",
       "    <tr>\n",
       "      <th>2013-09-01 17:10:00</th>\n",
       "      <td>1640.50</td>\n",
       "    </tr>\n",
       "    <tr>\n",
       "      <th>2013-09-01 17:15:00</th>\n",
       "      <td>1640.75</td>\n",
       "    </tr>\n",
       "    <tr>\n",
       "      <th>2013-09-01 17:20:00</th>\n",
       "      <td>1640.50</td>\n",
       "    </tr>\n",
       "  </tbody>\n",
       "</table>\n",
       "</div>"
      ],
      "text/plain": [
       "                       close\n",
       "Date_Time                   \n",
       "2013-09-01 17:00:00  1640.25\n",
       "2013-09-01 17:05:00  1640.50\n",
       "2013-09-01 17:10:00  1640.50\n",
       "2013-09-01 17:15:00  1640.75\n",
       "2013-09-01 17:20:00  1640.50"
      ]
     },
     "execution_count": 6,
     "metadata": {},
     "output_type": "execute_result"
    }
   ],
   "source": [
    "data.drop(columns=['open', 'low', 'high', 'volume'], inplace=True)\n",
    "data.head()"
   ]
  },
  {
   "cell_type": "markdown",
   "metadata": {},
   "source": [
    "#### Generating `MACD` & `MACDSignal` variables\n",
    "\n",
    "- Moving average convergence / divergence value\n",
    "- MACD signal"
   ]
  },
  {
   "cell_type": "code",
   "execution_count": 8,
   "metadata": {},
   "outputs": [
    {
     "data": {
      "text/html": [
       "<div>\n",
       "<style scoped>\n",
       "    .dataframe tbody tr th:only-of-type {\n",
       "        vertical-align: middle;\n",
       "    }\n",
       "\n",
       "    .dataframe tbody tr th {\n",
       "        vertical-align: top;\n",
       "    }\n",
       "\n",
       "    .dataframe thead th {\n",
       "        text-align: right;\n",
       "    }\n",
       "</style>\n",
       "<table border=\"1\" class=\"dataframe\">\n",
       "  <thead>\n",
       "    <tr style=\"text-align: right;\">\n",
       "      <th></th>\n",
       "      <th>close</th>\n",
       "      <th>MACD</th>\n",
       "      <th>MACDsignal</th>\n",
       "    </tr>\n",
       "    <tr>\n",
       "      <th>Date_Time</th>\n",
       "      <th></th>\n",
       "      <th></th>\n",
       "      <th></th>\n",
       "    </tr>\n",
       "  </thead>\n",
       "  <tbody>\n",
       "    <tr>\n",
       "      <th>2013-09-20 15:55:00</th>\n",
       "      <td>1704.50</td>\n",
       "      <td>-2.776568</td>\n",
       "      <td>-1.204074</td>\n",
       "    </tr>\n",
       "    <tr>\n",
       "      <th>2013-09-20 16:00:00</th>\n",
       "      <td>1704.75</td>\n",
       "      <td>-2.796478</td>\n",
       "      <td>-1.234441</td>\n",
       "    </tr>\n",
       "    <tr>\n",
       "      <th>2013-09-20 16:05:00</th>\n",
       "      <td>1704.75</td>\n",
       "      <td>-2.815707</td>\n",
       "      <td>-1.264596</td>\n",
       "    </tr>\n",
       "    <tr>\n",
       "      <th>2013-09-20 16:10:00</th>\n",
       "      <td>1704.00</td>\n",
       "      <td>-2.840036</td>\n",
       "      <td>-1.294640</td>\n",
       "    </tr>\n",
       "    <tr>\n",
       "      <th>2013-09-20 16:15:00</th>\n",
       "      <td>1703.75</td>\n",
       "      <td>-2.865510</td>\n",
       "      <td>-1.324596</td>\n",
       "    </tr>\n",
       "  </tbody>\n",
       "</table>\n",
       "</div>"
      ],
      "text/plain": [
       "                       close      MACD  MACDsignal\n",
       "Date_Time                                         \n",
       "2013-09-20 15:55:00  1704.50 -2.776568   -1.204074\n",
       "2013-09-20 16:00:00  1704.75 -2.796478   -1.234441\n",
       "2013-09-20 16:05:00  1704.75 -2.815707   -1.264596\n",
       "2013-09-20 16:10:00  1704.00 -2.840036   -1.294640\n",
       "2013-09-20 16:15:00  1703.75 -2.865510   -1.324596"
      ]
     },
     "execution_count": 8,
     "metadata": {},
     "output_type": "execute_result"
    }
   ],
   "source": [
    "data['EMA12'] = 0\n",
    "data['EMA26'] = 0\n",
    "data['EMA12'] = data['close'].ewm(min_periods=12,halflife=48,adjust=False).mean()\n",
    "data['EMA26'] = data['close'].ewm(min_periods=26,halflife=104,adjust=False).mean()\n",
    "\n",
    "data['MACD'] = (data['EMA12'] - data['EMA26'])\n",
    "data['MACDsignal'] = data['MACD'].ewm(min_periods=9,halflife=36,adjust=False).mean()\n",
    "\n",
    "data.drop(columns=['EMA12', 'EMA26'], inplace=True)\n",
    "data.tail()"
   ]
  },
  {
   "cell_type": "markdown",
   "metadata": {},
   "source": [
    "#### Generating `pct_change` & `RSI` variables\n",
    "\n",
    "- Percent change increase - `True / False`\n",
    "- Relative strength index\n"
   ]
  },
  {
   "cell_type": "code",
   "execution_count": 9,
   "metadata": {
    "scrolled": false
   },
   "outputs": [
    {
     "data": {
      "text/html": [
       "<div>\n",
       "<style scoped>\n",
       "    .dataframe tbody tr th:only-of-type {\n",
       "        vertical-align: middle;\n",
       "    }\n",
       "\n",
       "    .dataframe tbody tr th {\n",
       "        vertical-align: top;\n",
       "    }\n",
       "\n",
       "    .dataframe thead th {\n",
       "        text-align: right;\n",
       "    }\n",
       "</style>\n",
       "<table border=\"1\" class=\"dataframe\">\n",
       "  <thead>\n",
       "    <tr style=\"text-align: right;\">\n",
       "      <th></th>\n",
       "      <th>close</th>\n",
       "      <th>MACD</th>\n",
       "      <th>MACDsignal</th>\n",
       "      <th>pct_change</th>\n",
       "      <th>RSI</th>\n",
       "    </tr>\n",
       "    <tr>\n",
       "      <th>Date_Time</th>\n",
       "      <th></th>\n",
       "      <th></th>\n",
       "      <th></th>\n",
       "      <th></th>\n",
       "      <th></th>\n",
       "    </tr>\n",
       "  </thead>\n",
       "  <tbody>\n",
       "    <tr>\n",
       "      <th>2013-09-20 15:55:00</th>\n",
       "      <td>1704.50</td>\n",
       "      <td>-2.776568</td>\n",
       "      <td>-1.204074</td>\n",
       "      <td>1</td>\n",
       "      <td>59.732475</td>\n",
       "    </tr>\n",
       "    <tr>\n",
       "      <th>2013-09-20 16:00:00</th>\n",
       "      <td>1704.75</td>\n",
       "      <td>-2.796478</td>\n",
       "      <td>-1.234441</td>\n",
       "      <td>1</td>\n",
       "      <td>60.227820</td>\n",
       "    </tr>\n",
       "    <tr>\n",
       "      <th>2013-09-20 16:05:00</th>\n",
       "      <td>1704.75</td>\n",
       "      <td>-2.815707</td>\n",
       "      <td>-1.264596</td>\n",
       "      <td>1</td>\n",
       "      <td>60.717071</td>\n",
       "    </tr>\n",
       "    <tr>\n",
       "      <th>2013-09-20 16:10:00</th>\n",
       "      <td>1704.00</td>\n",
       "      <td>-2.840036</td>\n",
       "      <td>-1.294640</td>\n",
       "      <td>0</td>\n",
       "      <td>59.970170</td>\n",
       "    </tr>\n",
       "    <tr>\n",
       "      <th>2013-09-20 16:15:00</th>\n",
       "      <td>1703.75</td>\n",
       "      <td>-2.865510</td>\n",
       "      <td>-1.324596</td>\n",
       "      <td>0</td>\n",
       "      <td>59.232456</td>\n",
       "    </tr>\n",
       "  </tbody>\n",
       "</table>\n",
       "</div>"
      ],
      "text/plain": [
       "                       close      MACD  MACDsignal  pct_change        RSI\n",
       "Date_Time                                                                \n",
       "2013-09-20 15:55:00  1704.50 -2.776568   -1.204074           1  59.732475\n",
       "2013-09-20 16:00:00  1704.75 -2.796478   -1.234441           1  60.227820\n",
       "2013-09-20 16:05:00  1704.75 -2.815707   -1.264596           1  60.717071\n",
       "2013-09-20 16:10:00  1704.00 -2.840036   -1.294640           0  59.970170\n",
       "2013-09-20 16:15:00  1703.75 -2.865510   -1.324596           0  59.232456"
      ]
     },
     "execution_count": 9,
     "metadata": {},
     "output_type": "execute_result"
    }
   ],
   "source": [
    "data['pct_change'] = data['close'].pct_change()\n",
    "data['pct_change'] = np.where(data['pct_change']>=0, 1, 0)\n",
    "data['up'] = data['pct_change']\n",
    "data['up'].fillna(0)\n",
    "data['up'] = np.where(data['up']>0, 1, 0)\n",
    "data['down'] = data['pct_change']\n",
    "data['down'].fillna(0)\n",
    "data['down'] = np.where(data['down']<=0, 1, 0)\n",
    "data['RSIup'] = data['up'].ewm(min_periods=14,halflife=56,adjust=False).mean()\n",
    "data['RSIdown'] = data['down'].ewm(min_periods=14,halflife=56,adjust=False).mean()\n",
    "data['RS'] = data['RSIup'] / data['RSIdown']\n",
    "data['RSI']= 100.0 - (100.0 / (1.0 + data['RS']))\n",
    "\n",
    "data.drop(columns=['up', 'down', 'RSIup', 'RSIdown', 'RS'], inplace=True)\n",
    "data.tail()"
   ]
  },
  {
   "cell_type": "markdown",
   "metadata": {},
   "source": [
    "#### Generating `close_autocorrel`, `pearsonr_close_MACD` and `pearsonr_close_RSI` variables\n",
    "\n",
    "- Autocorrelation on period close price\n",
    "- Correlation period close price vs MACD\n",
    "- Correlation period close price vs RSI"
   ]
  },
  {
   "cell_type": "code",
   "execution_count": 10,
   "metadata": {},
   "outputs": [],
   "source": [
    "from scipy.stats.stats import pearsonr\n",
    "\n",
    "autocorrel = []\n",
    "data['close_autocorrel'] = ''\n",
    "data['pearsonr_close_MACD'] = ''\n",
    "data['pearsonr_close_RSI'] = ''\n",
    "data['quartile'] = 0\n",
    "quarter = int(len(data) / 4)\n",
    "for i in range (0,29):\n",
    "    autocorrel.append('')\n",
    "    data.iloc[i, data.columns.get_loc('quartile')] = int((i - 1) / quarter) + 1\n",
    "for i in range(29,len(data)):\n",
    "    seq1 = []\n",
    "    seq2 = []\n",
    "    seq3 = []\n",
    "    quartile_val = int((i - 1) / quarter) + 1\n",
    "    if (quartile_val == 5):\n",
    "        quartile_val = 4\n",
    "    data.iloc[i, data.columns.get_loc('quartile')] = quartile_val\n",
    "    #print(i, quarter, quartile_val)\n",
    "    for j in range (i-28,i):\n",
    "        seq1.append(data['close'][j])\n",
    "        seq2.append(data['MACD'][j])\n",
    "        seq3.append(data['RSI'][j])\n",
    "    autocorrel_series = pd.Series(seq1)\n",
    "    autocorrel_val = autocorrel_series.autocorr(lag=1)\n",
    "    data.iloc[i, data.columns.get_loc('close_autocorrel')] = autocorrel_val\n",
    "    autocorrel.append(autocorrel_val)\n",
    "    cross_correlation = pearsonr(seq1, seq2)\n",
    "    data.iloc[i, data.columns.get_loc('pearsonr_close_MACD')] = cross_correlation[0]\n",
    "    cross_correlation = pearsonr(seq1, seq3)\n",
    "    data.iloc[i, data.columns.get_loc('pearsonr_close_RSI')] = cross_correlation[0]\n",
    "    data.tail()"
   ]
  },
  {
   "cell_type": "code",
   "execution_count": 11,
   "metadata": {},
   "outputs": [
    {
     "data": {
      "text/html": [
       "<div>\n",
       "<style scoped>\n",
       "    .dataframe tbody tr th:only-of-type {\n",
       "        vertical-align: middle;\n",
       "    }\n",
       "\n",
       "    .dataframe tbody tr th {\n",
       "        vertical-align: top;\n",
       "    }\n",
       "\n",
       "    .dataframe thead th {\n",
       "        text-align: right;\n",
       "    }\n",
       "</style>\n",
       "<table border=\"1\" class=\"dataframe\">\n",
       "  <thead>\n",
       "    <tr style=\"text-align: right;\">\n",
       "      <th></th>\n",
       "      <th>close</th>\n",
       "      <th>MACD</th>\n",
       "      <th>MACDsignal</th>\n",
       "      <th>pct_change</th>\n",
       "      <th>RSI</th>\n",
       "      <th>close_autocorrel</th>\n",
       "      <th>pearsonr_close_MACD</th>\n",
       "      <th>pearsonr_close_RSI</th>\n",
       "      <th>quartile</th>\n",
       "    </tr>\n",
       "    <tr>\n",
       "      <th>Date_Time</th>\n",
       "      <th></th>\n",
       "      <th></th>\n",
       "      <th></th>\n",
       "      <th></th>\n",
       "      <th></th>\n",
       "      <th></th>\n",
       "      <th></th>\n",
       "      <th></th>\n",
       "      <th></th>\n",
       "    </tr>\n",
       "  </thead>\n",
       "  <tbody>\n",
       "    <tr>\n",
       "      <th>2013-09-20 15:55:00</th>\n",
       "      <td>1704.50</td>\n",
       "      <td>-2.776568</td>\n",
       "      <td>-1.204074</td>\n",
       "      <td>1</td>\n",
       "      <td>59.732475</td>\n",
       "      <td>0.88251</td>\n",
       "      <td>0.78316</td>\n",
       "      <td>0.884687</td>\n",
       "      <td>4</td>\n",
       "    </tr>\n",
       "    <tr>\n",
       "      <th>2013-09-20 16:00:00</th>\n",
       "      <td>1704.75</td>\n",
       "      <td>-2.796478</td>\n",
       "      <td>-1.234441</td>\n",
       "      <td>1</td>\n",
       "      <td>60.227820</td>\n",
       "      <td>0.866933</td>\n",
       "      <td>0.715724</td>\n",
       "      <td>0.869826</td>\n",
       "      <td>4</td>\n",
       "    </tr>\n",
       "    <tr>\n",
       "      <th>2013-09-20 16:05:00</th>\n",
       "      <td>1704.75</td>\n",
       "      <td>-2.815707</td>\n",
       "      <td>-1.264596</td>\n",
       "      <td>1</td>\n",
       "      <td>60.717071</td>\n",
       "      <td>0.871859</td>\n",
       "      <td>0.631796</td>\n",
       "      <td>0.869516</td>\n",
       "      <td>4</td>\n",
       "    </tr>\n",
       "    <tr>\n",
       "      <th>2013-09-20 16:10:00</th>\n",
       "      <td>1704.00</td>\n",
       "      <td>-2.840036</td>\n",
       "      <td>-1.294640</td>\n",
       "      <td>0</td>\n",
       "      <td>59.970170</td>\n",
       "      <td>0.869695</td>\n",
       "      <td>0.57301</td>\n",
       "      <td>0.860855</td>\n",
       "      <td>4</td>\n",
       "    </tr>\n",
       "    <tr>\n",
       "      <th>2013-09-20 16:15:00</th>\n",
       "      <td>1703.75</td>\n",
       "      <td>-2.865510</td>\n",
       "      <td>-1.324596</td>\n",
       "      <td>0</td>\n",
       "      <td>59.232456</td>\n",
       "      <td>0.86105</td>\n",
       "      <td>0.535243</td>\n",
       "      <td>0.84871</td>\n",
       "      <td>4</td>\n",
       "    </tr>\n",
       "  </tbody>\n",
       "</table>\n",
       "</div>"
      ],
      "text/plain": [
       "                       close      MACD  MACDsignal  pct_change        RSI  \\\n",
       "Date_Time                                                                   \n",
       "2013-09-20 15:55:00  1704.50 -2.776568   -1.204074           1  59.732475   \n",
       "2013-09-20 16:00:00  1704.75 -2.796478   -1.234441           1  60.227820   \n",
       "2013-09-20 16:05:00  1704.75 -2.815707   -1.264596           1  60.717071   \n",
       "2013-09-20 16:10:00  1704.00 -2.840036   -1.294640           0  59.970170   \n",
       "2013-09-20 16:15:00  1703.75 -2.865510   -1.324596           0  59.232456   \n",
       "\n",
       "                    close_autocorrel pearsonr_close_MACD pearsonr_close_RSI  \\\n",
       "Date_Time                                                                     \n",
       "2013-09-20 15:55:00          0.88251             0.78316           0.884687   \n",
       "2013-09-20 16:00:00         0.866933            0.715724           0.869826   \n",
       "2013-09-20 16:05:00         0.871859            0.631796           0.869516   \n",
       "2013-09-20 16:10:00         0.869695             0.57301           0.860855   \n",
       "2013-09-20 16:15:00          0.86105            0.535243            0.84871   \n",
       "\n",
       "                     quartile  \n",
       "Date_Time                      \n",
       "2013-09-20 15:55:00         4  \n",
       "2013-09-20 16:00:00         4  \n",
       "2013-09-20 16:05:00         4  \n",
       "2013-09-20 16:10:00         4  \n",
       "2013-09-20 16:15:00         4  "
      ]
     },
     "execution_count": 11,
     "metadata": {},
     "output_type": "execute_result"
    }
   ],
   "source": [
    "data.tail()"
   ]
  },
  {
   "cell_type": "markdown",
   "metadata": {},
   "source": [
    "#### Calculating Target Variable `quartile`\n",
    "\n",
    "- The target variable will be quartiles of period close price\n",
    "- $1$ represent the lowest quartile of close prices and $4$ is the highest"
   ]
  },
  {
   "cell_type": "markdown",
   "metadata": {},
   "source": [
    "### Performing Feature Engineering on Explanatory Variables"
   ]
  },
  {
   "cell_type": "markdown",
   "metadata": {},
   "source": [
    "#### Formatting for using `sklearn`\n",
    "\n",
    "- We remove the index column and headings to utilize the PCA & LDA classes from **`sklearn`** library"
   ]
  },
  {
   "cell_type": "code",
   "execution_count": 13,
   "metadata": {},
   "outputs": [
    {
     "data": {
      "text/plain": [
       "array([[1641.5, 0.3360701487320057, 0.1539812796951609, ...,\n",
       "        0.5034863275725053, 0.6516834576010556, 1],\n",
       "       [1641.0, 0.33406957853594577, 0.15741554776590888, ...,\n",
       "        0.32719558344573674, 0.4929144586796308, 1],\n",
       "       [1640.75, 0.3301554521833623, 0.16070968259922971, ...,\n",
       "        0.09351353017558908, 0.2797874751892988, 1],\n",
       "       ...,\n",
       "       [1704.75, -2.815706736150787, -1.2645959977957417, ...,\n",
       "        0.6317961247781377, 0.869516439001569, 4],\n",
       "       [1704.0, -2.8400360498021655, -1.2946395014703842, ...,\n",
       "        0.573010043933211, 0.8608551814768564, 4],\n",
       "       [1703.75, -2.8655103129528925, -1.3245958701288159, ...,\n",
       "        0.5352427987825941, 0.8487103906824096, 4]], dtype=object)"
      ]
     },
     "execution_count": 13,
     "metadata": {},
     "output_type": "execute_result"
    }
   ],
   "source": [
    "data_train = data.dropna().values\n",
    "data_train"
   ]
  },
  {
   "cell_type": "markdown",
   "metadata": {},
   "source": [
    "#### Using Principal Component Analysis (PCA)\n",
    "\n",
    "- PCA is a technique for reducing the dimensionality of data\n",
    "- PCA can be viewed as a projection method where data with ***m***-columns (**features**) is _projected_ into a subspace with $\\leq$ ***m*** columns whilst retaining the essence of the original data\n",
    "- We consider the case where number of components to $3$\n",
    "- the **`PCA`** class is fitted to dataset **`data_train`** and projected into a subspace with $3$ dimensions by calling the **`fit_transform()`** function\n",
    "- we can access the % of variance explained by each component via the **`explained_variance_ratio_`** attribute of the **`PCA`** class\n",
    "\n",
    "$\\rightarrow$ We display the percentage of variance explained on a bar chart as shown below."
   ]
  },
  {
   "cell_type": "code",
   "execution_count": 14,
   "metadata": {},
   "outputs": [
    {
     "name": "stdout",
     "output_type": "stream",
     "text": [
      "Percentage of variance explained by each of the selected components:\n",
      "[0.95458323 0.03480325 0.00907758]\n"
     ]
    }
   ],
   "source": [
    "from sklearn.decomposition import PCA\n",
    "import matplotlib.pyplot as plt\n",
    "\n",
    "#train_labels = data_train[:,1]\n",
    "train_labels = data_train[:,-1]\n",
    "train_classes = list(set(train_labels))\n",
    "train_classes = np.array(train_classes, dtype=int)\n",
    "train_labels = np.array(train_labels, dtype=int)\n",
    "#data_train = data_train[:, 1:]\n",
    "data_train = data_train[:, :-1]\n",
    "\n",
    "\n",
    "pca = PCA(n_components=3)\n",
    "pca.fit_transform(data_train)\n",
    "\n",
    "print(\"Percentage of variance explained by each of the selected components:\")\n",
    "print(pca.explained_variance_ratio_) "
   ]
  },
  {
   "cell_type": "code",
   "execution_count": 19,
   "metadata": {},
   "outputs": [
    {
     "data": {
      "image/png": "[encoded data removed]",
      "text/plain": [
       "<Figure size 432x288 with 1 Axes>"
      ]
     },
     "metadata": {},
     "output_type": "display_data"
    }
   ],
   "source": [
    "plt.style.use('dark_background')\n",
    "\n",
    "plt.bar(['Component1','Component2','Component3'], pca.explained_variance_ratio_)\n",
    "plt.ylabel('Explained Variance')\n",
    "plt.xlabel('PCA Components')\n",
    "plt.title('Explained Variance Ratio')\n",
    "plt.show()"
   ]
  },
  {
   "cell_type": "markdown",
   "metadata": {},
   "source": [
    "- Since the 1st 2 principal components explain for $\\geq 99\\%$ of variance, we store the 1st 2 principal components along with the target variable and present it below\n",
    "\n"
   ]
  },
  {
   "cell_type": "code",
   "execution_count": 20,
   "metadata": {},
   "outputs": [
    {
     "data": {
      "text/html": [
       "<div>\n",
       "<style scoped>\n",
       "    .dataframe tbody tr th:only-of-type {\n",
       "        vertical-align: middle;\n",
       "    }\n",
       "\n",
       "    .dataframe tbody tr th {\n",
       "        vertical-align: top;\n",
       "    }\n",
       "\n",
       "    .dataframe thead th {\n",
       "        text-align: right;\n",
       "    }\n",
       "</style>\n",
       "<table border=\"1\" class=\"dataframe\">\n",
       "  <thead>\n",
       "    <tr style=\"text-align: right;\">\n",
       "      <th></th>\n",
       "      <th>PC1</th>\n",
       "      <th>PC2</th>\n",
       "      <th>classes</th>\n",
       "    </tr>\n",
       "  </thead>\n",
       "  <tbody>\n",
       "    <tr>\n",
       "      <th>0</th>\n",
       "      <td>-36.643519</td>\n",
       "      <td>30.158375</td>\n",
       "      <td>1</td>\n",
       "    </tr>\n",
       "    <tr>\n",
       "      <th>1</th>\n",
       "      <td>-37.150789</td>\n",
       "      <td>30.553816</td>\n",
       "      <td>1</td>\n",
       "    </tr>\n",
       "    <tr>\n",
       "      <th>2</th>\n",
       "      <td>-37.408313</td>\n",
       "      <td>30.949526</td>\n",
       "      <td>1</td>\n",
       "    </tr>\n",
       "    <tr>\n",
       "      <th>3</th>\n",
       "      <td>-37.143704</td>\n",
       "      <td>30.117175</td>\n",
       "      <td>1</td>\n",
       "    </tr>\n",
       "    <tr>\n",
       "      <th>4</th>\n",
       "      <td>-37.128856</td>\n",
       "      <td>29.302182</td>\n",
       "      <td>1</td>\n",
       "    </tr>\n",
       "  </tbody>\n",
       "</table>\n",
       "</div>"
      ],
      "text/plain": [
       "         PC1        PC2  classes\n",
       "0 -36.643519  30.158375        1\n",
       "1 -37.150789  30.553816        1\n",
       "2 -37.408313  30.949526        1\n",
       "3 -37.143704  30.117175        1\n",
       "4 -37.128856  29.302182        1"
      ]
     },
     "execution_count": 20,
     "metadata": {},
     "output_type": "execute_result"
    }
   ],
   "source": [
    "pca = PCA(n_components=2)\n",
    "principalComponents = pca.fit_transform(data_train)\n",
    "principalDf = pd.DataFrame(data = principalComponents, columns = ['PC1', 'PC2'])\n",
    "\n",
    "classes = pd.DataFrame(train_labels)\n",
    "classes['classes'] = classes\n",
    "classes.drop(columns=[0], inplace=True)\n",
    "\n",
    "finalDf = pd.concat([principalDf, classes[['classes']]], axis = 1)\n",
    "finalDf.head()"
   ]
  },
  {
   "cell_type": "code",
   "execution_count": 21,
   "metadata": {},
   "outputs": [
    {
     "data": {
      "text/html": [
       "<div>\n",
       "<style scoped>\n",
       "    .dataframe tbody tr th:only-of-type {\n",
       "        vertical-align: middle;\n",
       "    }\n",
       "\n",
       "    .dataframe tbody tr th {\n",
       "        vertical-align: top;\n",
       "    }\n",
       "\n",
       "    .dataframe thead th {\n",
       "        text-align: right;\n",
       "    }\n",
       "</style>\n",
       "<table border=\"1\" class=\"dataframe\">\n",
       "  <thead>\n",
       "    <tr style=\"text-align: right;\">\n",
       "      <th></th>\n",
       "      <th>PC1</th>\n",
       "      <th>PC2</th>\n",
       "      <th>classes</th>\n",
       "    </tr>\n",
       "  </thead>\n",
       "  <tbody>\n",
       "    <tr>\n",
       "      <th>4044</th>\n",
       "      <td>26.650694</td>\n",
       "      <td>5.762915</td>\n",
       "      <td>4</td>\n",
       "    </tr>\n",
       "    <tr>\n",
       "      <th>4045</th>\n",
       "      <td>26.908004</td>\n",
       "      <td>5.278870</td>\n",
       "      <td>4</td>\n",
       "    </tr>\n",
       "    <tr>\n",
       "      <th>4046</th>\n",
       "      <td>26.915460</td>\n",
       "      <td>4.794994</td>\n",
       "      <td>4</td>\n",
       "    </tr>\n",
       "    <tr>\n",
       "      <th>4047</th>\n",
       "      <td>26.151035</td>\n",
       "      <td>5.535738</td>\n",
       "      <td>4</td>\n",
       "    </tr>\n",
       "    <tr>\n",
       "      <th>4048</th>\n",
       "      <td>25.886153</td>\n",
       "      <td>6.266565</td>\n",
       "      <td>4</td>\n",
       "    </tr>\n",
       "  </tbody>\n",
       "</table>\n",
       "</div>"
      ],
      "text/plain": [
       "            PC1       PC2  classes\n",
       "4044  26.650694  5.762915        4\n",
       "4045  26.908004  5.278870        4\n",
       "4046  26.915460  4.794994        4\n",
       "4047  26.151035  5.535738        4\n",
       "4048  25.886153  6.266565        4"
      ]
     },
     "execution_count": 21,
     "metadata": {},
     "output_type": "execute_result"
    }
   ],
   "source": [
    "finalDf.tail()"
   ]
  },
  {
   "cell_type": "markdown",
   "metadata": {},
   "source": [
    "- Visualizing the PCA components"
   ]
  },
  {
   "cell_type": "code",
   "execution_count": 22,
   "metadata": {},
   "outputs": [
    {
     "data": {
      "image/png": "[encoded data removed]",
      "text/plain": [
       "<Figure size 576x576 with 1 Axes>"
      ]
     },
     "metadata": {},
     "output_type": "display_data"
    }
   ],
   "source": [
    "fig = plt.figure(figsize = (8,8))\n",
    "ax = fig.add_subplot(1,1,1) \n",
    "ax.set_xlabel('PC1', fontsize = 15)\n",
    "ax.set_ylabel('PC2', fontsize = 15)\n",
    "ax.set_title('2 component PCA', fontsize = 20)\n",
    "classes = [0,1,2]\n",
    "colors = ['r', 'g', 'b']\n",
    "for classes, color in zip(classes,colors):\n",
    "    indicesToKeep = finalDf['classes'] == classes\n",
    "    ax.scatter(finalDf.loc[indicesToKeep, 'PC1']\n",
    "               , finalDf.loc[indicesToKeep, 'PC2']\n",
    "               , c = color\n",
    "               , s = 5)\n",
    "#ax.legend(classes)\n",
    "ax.grid()"
   ]
  },
  {
   "cell_type": "markdown",
   "metadata": {},
   "source": [
    "#### Using Linear Discriminant Analysis (LDA)\n",
    "\n",
    "- Linear Discriminant Analysis **(LDA)** is another method for reducing the dimensionality of data\n",
    "- The LDA approach is very similar to PCA **except** that in addition to finding the component axes that maximize the variance of our data, we are also interested in the axes that maximize the seperation between the multiple classes of LDA \n",
    "- The goal of LDA is to project a dataset onto a lower-dimensional space **WITH** good **class separability** to achieve 2 main purposes:\n",
    "    - Avoid Overfitting\n",
    "    - Reduce Computational Costs\n",
    "\n",
    "---\n",
    "- **Steps for LDA include:**\n",
    "    1. Compute $d$-dimensional mean vectors for different classes from the dataset, where $d$ is the dimension of feature space\n",
    "    2. Compute in-between class and with-in class scatter matrices\n",
    "    3. Compute eigen vectors and corresponding eigen values for the scatter matrices\n",
    "    4. Choose $k$ eigen vectors corresponding to top $k$ eigen values to form a transformation matrix of dimension $d \\times k$\n",
    "    5. Transform the $d$-dimensional feature space $X$ to $k$-dimensional feature space $X_{LDA}$ via the transformation matrix\n",
    "---\n",
    "- We will directly apply the **`LinearDiscriminantAnalysis`** class in the **`sklearn.discriminant_analysis`** library. \n",
    "- we can set the number of components in `n_components=3`\n",
    "- the **`lda`** class is fitted to dataset **`data_train`** and projected into a subspace with $3$ dimensions by calling the **`fit_transform()`** function\n",
    "- we can access the % of variance explained by each component via the **`explained_variance_ratio_`** attribute of the **`lda`** class\n",
    "- We display the percentage of variance explained on a bar chart as shown below."
   ]
  },
  {
   "cell_type": "code",
   "execution_count": 23,
   "metadata": {},
   "outputs": [
    {
     "name": "stdout",
     "output_type": "stream",
     "text": [
      "Percentage of variance explained by each of the selected components:\n",
      "[0.95458323 0.03480325]\n"
     ]
    },
    {
     "data": {
      "image/png": "[encoded data removed]",
      "text/plain": [
       "<Figure size 432x288 with 1 Axes>"
      ]
     },
     "metadata": {},
     "output_type": "display_data"
    }
   ],
   "source": [
    "from sklearn.discriminant_analysis import LinearDiscriminantAnalysis\n",
    "\n",
    "data_train = data.dropna().values\n",
    "train_labels = data_train[:,-1]\n",
    "train_classes = list(set(train_labels))\n",
    "train_classes = np.array(train_classes, dtype=int)\n",
    "train_labels = np.array(train_labels, dtype=int)\n",
    "data_train = data_train[:, :-1]\n",
    "\n",
    "lda = LinearDiscriminantAnalysis(n_components=3)\n",
    "lda.fit_transform(data_train, train_labels)\n",
    "\n",
    "print(\"Percentage of variance explained by each of the selected components:\")\n",
    "print(pca.explained_variance_ratio_) \n",
    "\n",
    "plt.bar(['Component1','Component2','Component3'], lda.explained_variance_ratio_)\n",
    "plt.ylabel('Explained Variance')\n",
    "plt.xlabel('LD Components')\n",
    "plt.title('Explained Variance Ratio')\n",
    "plt.show()"
   ]
  },
  {
   "cell_type": "markdown",
   "metadata": {},
   "source": [
    "- Again since the 1st 2 principal components explain for $≥99\\%$  of variance, we store the 1st 2 principal components along with the target variable"
   ]
  },
  {
   "cell_type": "code",
   "execution_count": 24,
   "metadata": {},
   "outputs": [
    {
     "data": {
      "text/html": [
       "<div>\n",
       "<style scoped>\n",
       "    .dataframe tbody tr th:only-of-type {\n",
       "        vertical-align: middle;\n",
       "    }\n",
       "\n",
       "    .dataframe tbody tr th {\n",
       "        vertical-align: top;\n",
       "    }\n",
       "\n",
       "    .dataframe thead th {\n",
       "        text-align: right;\n",
       "    }\n",
       "</style>\n",
       "<table border=\"1\" class=\"dataframe\">\n",
       "  <thead>\n",
       "    <tr style=\"text-align: right;\">\n",
       "      <th></th>\n",
       "      <th>LD1</th>\n",
       "      <th>LD2</th>\n",
       "      <th>classes</th>\n",
       "    </tr>\n",
       "  </thead>\n",
       "  <tbody>\n",
       "    <tr>\n",
       "      <th>0</th>\n",
       "      <td>-5.119080</td>\n",
       "      <td>6.034633</td>\n",
       "      <td>1</td>\n",
       "    </tr>\n",
       "    <tr>\n",
       "      <th>1</th>\n",
       "      <td>-5.248738</td>\n",
       "      <td>6.080011</td>\n",
       "      <td>1</td>\n",
       "    </tr>\n",
       "    <tr>\n",
       "      <th>2</th>\n",
       "      <td>-5.374085</td>\n",
       "      <td>6.096755</td>\n",
       "      <td>1</td>\n",
       "    </tr>\n",
       "    <tr>\n",
       "      <th>3</th>\n",
       "      <td>-5.484822</td>\n",
       "      <td>5.941345</td>\n",
       "      <td>1</td>\n",
       "    </tr>\n",
       "    <tr>\n",
       "      <th>4</th>\n",
       "      <td>-5.544466</td>\n",
       "      <td>5.734836</td>\n",
       "      <td>1</td>\n",
       "    </tr>\n",
       "  </tbody>\n",
       "</table>\n",
       "</div>"
      ],
      "text/plain": [
       "        LD1       LD2  classes\n",
       "0 -5.119080  6.034633        1\n",
       "1 -5.248738  6.080011        1\n",
       "2 -5.374085  6.096755        1\n",
       "3 -5.484822  5.941345        1\n",
       "4 -5.544466  5.734836        1"
      ]
     },
     "execution_count": 24,
     "metadata": {},
     "output_type": "execute_result"
    }
   ],
   "source": [
    "lda = LinearDiscriminantAnalysis (n_components=2)\n",
    "principalComponents = lda.fit_transform(data_train, train_labels)\n",
    "principalDf = pd.DataFrame(data = principalComponents, columns = ['LD1', 'LD2'])\n",
    "\n",
    "classes = pd.DataFrame(train_labels)\n",
    "classes['classes'] = classes\n",
    "classes.drop(columns=[0], inplace=True)\n",
    "\n",
    "finalDf = pd.concat([principalDf, classes[['classes']]], axis = 1)\n",
    "finalDf.head()"
   ]
  },
  {
   "cell_type": "code",
   "execution_count": 25,
   "metadata": {},
   "outputs": [
    {
     "data": {
      "text/html": [
       "<div>\n",
       "<style scoped>\n",
       "    .dataframe tbody tr th:only-of-type {\n",
       "        vertical-align: middle;\n",
       "    }\n",
       "\n",
       "    .dataframe tbody tr th {\n",
       "        vertical-align: top;\n",
       "    }\n",
       "\n",
       "    .dataframe thead th {\n",
       "        text-align: right;\n",
       "    }\n",
       "</style>\n",
       "<table border=\"1\" class=\"dataframe\">\n",
       "  <thead>\n",
       "    <tr style=\"text-align: right;\">\n",
       "      <th></th>\n",
       "      <th>LD1</th>\n",
       "      <th>LD2</th>\n",
       "      <th>classes</th>\n",
       "    </tr>\n",
       "  </thead>\n",
       "  <tbody>\n",
       "    <tr>\n",
       "      <th>4044</th>\n",
       "      <td>6.678709</td>\n",
       "      <td>1.631387</td>\n",
       "      <td>4</td>\n",
       "    </tr>\n",
       "    <tr>\n",
       "      <th>4045</th>\n",
       "      <td>6.728724</td>\n",
       "      <td>1.571268</td>\n",
       "      <td>4</td>\n",
       "    </tr>\n",
       "    <tr>\n",
       "      <th>4046</th>\n",
       "      <td>6.735514</td>\n",
       "      <td>1.521850</td>\n",
       "      <td>4</td>\n",
       "    </tr>\n",
       "    <tr>\n",
       "      <th>4047</th>\n",
       "      <td>6.691879</td>\n",
       "      <td>1.627462</td>\n",
       "      <td>4</td>\n",
       "    </tr>\n",
       "    <tr>\n",
       "      <th>4048</th>\n",
       "      <td>6.660335</td>\n",
       "      <td>1.784037</td>\n",
       "      <td>4</td>\n",
       "    </tr>\n",
       "  </tbody>\n",
       "</table>\n",
       "</div>"
      ],
      "text/plain": [
       "           LD1       LD2  classes\n",
       "4044  6.678709  1.631387        4\n",
       "4045  6.728724  1.571268        4\n",
       "4046  6.735514  1.521850        4\n",
       "4047  6.691879  1.627462        4\n",
       "4048  6.660335  1.784037        4"
      ]
     },
     "execution_count": 25,
     "metadata": {},
     "output_type": "execute_result"
    }
   ],
   "source": [
    "finalDf.tail()"
   ]
  },
  {
   "cell_type": "markdown",
   "metadata": {},
   "source": [
    "- Visualizing the LDA components"
   ]
  },
  {
   "cell_type": "code",
   "execution_count": 26,
   "metadata": {},
   "outputs": [
    {
     "data": {
      "image/png": "[encoded data removed]",
      "text/plain": [
       "<Figure size 576x576 with 1 Axes>"
      ]
     },
     "metadata": {},
     "output_type": "display_data"
    }
   ],
   "source": [
    "fig = plt.figure(figsize = (8,8))\n",
    "ax = fig.add_subplot(1,1,1) \n",
    "ax.set_xlabel('LD1', fontsize = 15)\n",
    "ax.set_ylabel('LD2', fontsize = 15)\n",
    "ax.set_title('2 component LDA', fontsize = 20)\n",
    "classes = [0,1,2]\n",
    "colors = ['r', 'g', 'b']\n",
    "for classes, color in zip(classes,colors):\n",
    "    indicesToKeep = finalDf['classes'] == classes\n",
    "    ax.scatter(finalDf.loc[indicesToKeep, 'LD1']\n",
    "               , finalDf.loc[indicesToKeep, 'LD2']\n",
    "               , c = color\n",
    "               , s = 5)\n",
    "#ax.legend(classes)\n",
    "ax.grid()"
   ]
  }
 ],
 "metadata": {
  "kernelspec": {
   "display_name": "Python 3",
   "language": "python",
   "name": "python3"
  },
  "language_info": {
   "codemirror_mode": {
    "name": "ipython",
    "version": 3
   },
   "file_extension": ".py",
   "mimetype": "text/x-python",
   "name": "python",
   "nbconvert_exporter": "python",
   "pygments_lexer": "ipython3",
   "version": "3.6.5"
  },
  "toc": {
   "base_numbering": 1,
   "nav_menu": {},
   "number_sections": true,
   "sideBar": true,
   "skip_h1_title": false,
   "title_cell": "Table of Contents",
   "title_sidebar": "Contents",
   "toc_cell": false,
   "toc_position": {},
   "toc_section_display": true,
   "toc_window_display": false
  },
  "varInspector": {
   "cols": {
    "lenName": 16,
    "lenType": 16,
    "lenVar": 40
   },
   "kernels_config": {
    "python": {
     "delete_cmd_postfix": "",
     "delete_cmd_prefix": "del ",
     "library": "var_list.py",
     "varRefreshCmd": "print(var_dic_list())"
    },
    "r": {
     "delete_cmd_postfix": ") ",
     "delete_cmd_prefix": "rm(",
     "library": "var_list.r",
     "varRefreshCmd": "cat(var_dic_list()) "
    }
   },
   "types_to_exclude": [
    "module",
    "function",
    "builtin_function_or_method",
    "instance",
    "_Feature"
   ],
   "window_display": false
  }
 },
 "nbformat": 4,
 "nbformat_minor": 2
}
